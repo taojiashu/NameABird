{
 "cells": [
  {
   "cell_type": "code",
   "execution_count": 3,
   "metadata": {},
   "outputs": [
    {
     "name": "stderr",
     "output_type": "stream",
     "text": [
      "/Applications/anaconda/lib/python3.6/site-packages/h5py/__init__.py:34: FutureWarning: Conversion of the second argument of issubdtype from `float` to `np.floating` is deprecated. In future, it will be treated as `np.float64 == np.dtype(float).type`.\n",
      "  from ._conv import register_converters as _register_converters\n"
     ]
    }
   ],
   "source": [
    "from format_database import format_dataset\n",
    "import h5py\n",
    "import numpy as np"
   ]
  },
  {
   "cell_type": "code",
   "execution_count": 5,
   "metadata": {},
   "outputs": [],
   "source": [
    "h5 = h5py.File('data.h5','r')"
   ]
  },
  {
   "cell_type": "code",
   "execution_count": 6,
   "metadata": {
    "collapsed": true
   },
   "outputs": [],
   "source": [
    "Y_val = np.array(h5.get('Y_val'))"
   ]
  },
  {
   "cell_type": "code",
   "execution_count": 8,
   "metadata": {},
   "outputs": [
    {
     "data": {
      "text/plain": [
       "(600,)"
      ]
     },
     "execution_count": 8,
     "metadata": {},
     "output_type": "execute_result"
    }
   ],
   "source": [
    "Y_val.shape"
   ]
  },
  {
   "cell_type": "code",
   "execution_count": 9,
   "metadata": {
    "collapsed": true
   },
   "outputs": [],
   "source": [
    "h5.close()"
   ]
  },
  {
   "cell_type": "code",
   "execution_count": 10,
   "metadata": {},
   "outputs": [
    {
     "data": {
      "text/plain": [
       "98.045"
      ]
     },
     "execution_count": 10,
     "metadata": {},
     "output_type": "execute_result"
    }
   ],
   "source": [
    "Y_val.mean()"
   ]
  },
  {
   "cell_type": "code",
   "execution_count": 11,
   "metadata": {
    "collapsed": true
   },
   "outputs": [],
   "source": [
    "h5 = h5py.File('data.h5','r')\n",
    "Y_train = np.array(h5.get('Y_train'))\n",
    "h5.close()"
   ]
  },
  {
   "cell_type": "code",
   "execution_count": 12,
   "metadata": {},
   "outputs": [
    {
     "data": {
      "text/plain": [
       "99.60771227289581"
      ]
     },
     "execution_count": 12,
     "metadata": {},
     "output_type": "execute_result"
    }
   ],
   "source": [
    "Y_train.mean()"
   ]
  },
  {
   "cell_type": "code",
   "execution_count": 15,
   "metadata": {
    "collapsed": true
   },
   "outputs": [],
   "source": [
    "unique, counts = np.unique(Y_train, return_counts=True)"
   ]
  },
  {
   "cell_type": "code",
   "execution_count": 16,
   "metadata": {},
   "outputs": [
    {
     "data": {
      "text/plain": [
       "array([[  0,  26],\n",
       "       [  1,  26],\n",
       "       [  2,  27],\n",
       "       [  3,  26],\n",
       "       [  4,  26],\n",
       "       [  5,  27],\n",
       "       [  6,  27],\n",
       "       [  7,  28],\n",
       "       [  8,  27],\n",
       "       [  9,  28],\n",
       "       [ 10,  29],\n",
       "       [ 11,  28],\n",
       "       [ 12,  28],\n",
       "       [ 13,  29],\n",
       "       [ 14,  28],\n",
       "       [ 15,  30],\n",
       "       [ 16,  24],\n",
       "       [ 17,  29],\n",
       "       [ 18,  23],\n",
       "       [ 19,  29],\n",
       "       [ 20,  27],\n",
       "       [ 21,  27],\n",
       "       [ 22,  28],\n",
       "       [ 23,  25],\n",
       "       [ 24,  26],\n",
       "       [ 25,  27],\n",
       "       [ 26,  27],\n",
       "       [ 27,  26],\n",
       "       [ 28,  27],\n",
       "       [ 29,  29],\n",
       "       [ 30,  25],\n",
       "       [ 31,  29],\n",
       "       [ 32,  27],\n",
       "       [ 33,  25],\n",
       "       [ 34,  27],\n",
       "       [ 35,  27],\n",
       "       [ 36,  29],\n",
       "       [ 37,  25],\n",
       "       [ 38,  28],\n",
       "       [ 39,  26],\n",
       "       [ 40,  23],\n",
       "       [ 41,  21],\n",
       "       [ 42,  25],\n",
       "       [ 43,  27],\n",
       "       [ 44,  27],\n",
       "       [ 45,  25],\n",
       "       [ 46,  26],\n",
       "       [ 47,  27],\n",
       "       [ 48,  29],\n",
       "       [ 49,  28],\n",
       "       [ 50,  28],\n",
       "       [ 51,  24],\n",
       "       [ 52,  27],\n",
       "       [ 53,  26],\n",
       "       [ 54,  29],\n",
       "       [ 55,  26],\n",
       "       [ 56,  29],\n",
       "       [ 57,  29],\n",
       "       [ 58,  27],\n",
       "       [ 59,  24],\n",
       "       [ 60,  27],\n",
       "       [ 61,  25],\n",
       "       [ 62,  27],\n",
       "       [ 63,  27],\n",
       "       [ 64,  28],\n",
       "       [ 65,  28],\n",
       "       [ 66,  29],\n",
       "       [ 67,  25],\n",
       "       [ 68,  27],\n",
       "       [ 69,  27],\n",
       "       [ 70,  28],\n",
       "       [ 71,  28],\n",
       "       [ 72,  27],\n",
       "       [ 73,  30],\n",
       "       [ 74,  26],\n",
       "       [ 75,  29],\n",
       "       [ 76,  26],\n",
       "       [ 77,  28],\n",
       "       [ 78,  24],\n",
       "       [ 79,  27],\n",
       "       [ 80,  25],\n",
       "       [ 81,  29],\n",
       "       [ 82,  24],\n",
       "       [ 83,  28],\n",
       "       [ 84,  28],\n",
       "       [ 85,  26],\n",
       "       [ 86,  27],\n",
       "       [ 87,  28],\n",
       "       [ 88,  28],\n",
       "       [ 89,  27],\n",
       "       [ 90,  28],\n",
       "       [ 91,  30],\n",
       "       [ 92,  28],\n",
       "       [ 93,  23],\n",
       "       [ 94,  27],\n",
       "       [ 95,  26],\n",
       "       [ 96,  27],\n",
       "       [ 97,  27],\n",
       "       [ 98,  25],\n",
       "       [ 99,  26],\n",
       "       [100,  30],\n",
       "       [101,  26],\n",
       "       [102,  28],\n",
       "       [103,  29],\n",
       "       [104,  27],\n",
       "       [105,  28],\n",
       "       [106,  26],\n",
       "       [107,  27],\n",
       "       [108,  25],\n",
       "       [109,  29],\n",
       "       [110,  28],\n",
       "       [111,  27],\n",
       "       [112,  26],\n",
       "       [113,  29],\n",
       "       [114,  27],\n",
       "       [115,  26],\n",
       "       [116,  26],\n",
       "       [117,  27],\n",
       "       [118,  27],\n",
       "       [119,  28],\n",
       "       [120,  26],\n",
       "       [121,  26],\n",
       "       [122,  27],\n",
       "       [123,  29],\n",
       "       [124,  26],\n",
       "       [125,  25],\n",
       "       [126,  24],\n",
       "       [127,  29],\n",
       "       [128,  25],\n",
       "       [129,  27],\n",
       "       [130,  27],\n",
       "       [131,  27],\n",
       "       [132,  30],\n",
       "       [133,  24],\n",
       "       [134,  29],\n",
       "       [135,  24],\n",
       "       [136,  30],\n",
       "       [137,  28],\n",
       "       [138,  27],\n",
       "       [139,  24],\n",
       "       [140,  28],\n",
       "       [141,  28],\n",
       "       [142,  30],\n",
       "       [143,  29],\n",
       "       [144,  25],\n",
       "       [145,  26],\n",
       "       [146,  27],\n",
       "       [147,  27],\n",
       "       [148,  25],\n",
       "       [149,  26],\n",
       "       [150,  26],\n",
       "       [151,  29],\n",
       "       [152,  25],\n",
       "       [153,  29],\n",
       "       [154,  29],\n",
       "       [155,  29],\n",
       "       [156,  27],\n",
       "       [157,  28],\n",
       "       [158,  24],\n",
       "       [159,  27],\n",
       "       [160,  27],\n",
       "       [161,  26],\n",
       "       [162,  28],\n",
       "       [163,  29],\n",
       "       [164,  26],\n",
       "       [165,  26],\n",
       "       [166,  28],\n",
       "       [167,  27],\n",
       "       [168,  28],\n",
       "       [169,  26],\n",
       "       [170,  26],\n",
       "       [171,  28],\n",
       "       [172,  26],\n",
       "       [173,  28],\n",
       "       [174,  28],\n",
       "       [175,  25],\n",
       "       [176,  27],\n",
       "       [177,  27],\n",
       "       [178,  29],\n",
       "       [179,  27],\n",
       "       [180,  26],\n",
       "       [181,  27],\n",
       "       [182,  29],\n",
       "       [183,  25],\n",
       "       [184,  28],\n",
       "       [185,  26],\n",
       "       [186,  29],\n",
       "       [187,  27],\n",
       "       [188,  26],\n",
       "       [189,  24],\n",
       "       [190,  27],\n",
       "       [191,  26],\n",
       "       [192,  30],\n",
       "       [193,  27],\n",
       "       [194,  24],\n",
       "       [195,  27],\n",
       "       [196,  28],\n",
       "       [197,  28],\n",
       "       [198,  29],\n",
       "       [199,  26]])"
      ]
     },
     "execution_count": 16,
     "metadata": {},
     "output_type": "execute_result"
    }
   ],
   "source": [
    "np.asarray((unique, counts)).T"
   ]
  },
  {
   "cell_type": "code",
   "execution_count": null,
   "metadata": {
    "collapsed": true
   },
   "outputs": [],
   "source": []
  }
 ],
 "metadata": {
  "kernelspec": {
   "display_name": "Python [default]",
   "language": "python",
   "name": "python3"
  },
  "language_info": {
   "codemirror_mode": {
    "name": "ipython",
    "version": 3
   },
   "file_extension": ".py",
   "mimetype": "text/x-python",
   "name": "python",
   "nbconvert_exporter": "python",
   "pygments_lexer": "ipython3",
   "version": "3.6.1"
  }
 },
 "nbformat": 4,
 "nbformat_minor": 2
}
